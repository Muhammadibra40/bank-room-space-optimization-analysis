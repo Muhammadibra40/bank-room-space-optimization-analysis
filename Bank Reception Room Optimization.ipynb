{
 "cells": [
  {
   "cell_type": "markdown",
   "id": "9fead27b-f653-40ed-b108-8fca40d5914e",
   "metadata": {},
   "source": [
    "# Project: Reception Room Optimization in a Bank\n",
    "## Objective\n",
    "### Analyze the layout of a bank’s reception room to enhance customer flow, optimize seating arrangements, and plan for material needs."
   ]
  },
  {
   "cell_type": "markdown",
   "id": "994d4ae9-9d96-4d11-bb83-320382e498b5",
   "metadata": {},
   "source": [
    " This Project demonstrates the idea of reading a reception bank room AUTOCAD file Visually then apply the analysis needed to improve customer flow, resource utilization, and comfort, based on a detailed analysis of layout and furniture data. The goal is to provide actionable insights for reducing wait times, enhancing customer comfort, and maximizing staff efficiency."
   ]
  },
  {
   "cell_type": "markdown",
   "id": "f298a17c-7e56-4e4d-8c85-b55dd19f5544",
   "metadata": {},
   "source": [
    "# Phases of the project:\n",
    "## 1- Detailed Data Collection\n",
    "Gathering the data by observing the AutoCAD file to get the needed data.\n",
    "1. **Furniture Attributes**: \n",
    "   - Manually inspected and recorded the type, dimensions, positions, material types, and purposes of each piece of furniture.\n",
    "\n",
    "2. **Room Zoning**: \n",
    "   - Defined distinct zones --> (waiting area, reception desk, consultation zones) to understand traffic flow.\n",
    "\n",
    "3. **Customer Behavior Analysis**: \n",
    "   - Observed typical customer interactions, the time spent in each area and peak times.\n"
   ]
  },
  {
   "cell_type": "markdown",
   "id": "bf276d5e-6850-46dd-aeba-85bf3dd6618c",
   "metadata": {},
   "source": [
    "## 2- Data Entry and Structuring\n",
    "## Collected Data manipulation by Python\n",
    "Here, I used python to format the data that I collected from the AutoCAD into a suitable structure that I can use to analyze the data."
   ]
  },
  {
   "cell_type": "code",
   "execution_count": 8,
   "id": "f9588eb6-c44e-4236-9934-f7f66eb94f1a",
   "metadata": {},
   "outputs": [],
   "source": [
    "import pandas as pd\r",
    "\r\n",
    "data = {\r\n",
    "    \"Type\": [\"Desk\", \"Chair\", \"Table\", \"Cabinet\"],\r\n",
    "    \"X Position\": [10, 12, 20, 25],\r\n",
    "    \"Y Position\": [15, 15, 18, 22],\r\n",
    "    \"Rotation\": [0, 0, 90, 45],\r\n",
    "    \"Length\": [1.2, 0.5, 1.8, 2.0],\r\n",
    "    \"Width\": [0.6, 0.5, 1.0, 0.8],\r\n",
    "    \"Wood Area\": [2, 0.5, 3, 4],\r\n",
    "    \"Fabric Area\": [1, 0.8, 0, 0]\r\n",
    "}\r\n",
    "df = pd.DataFrame(data)\r\n"
   ]
  },
  {
   "cell_type": "code",
   "execution_count": 9,
   "id": "d5916734-7ff5-4b0e-818e-b55fe64162da",
   "metadata": {},
   "outputs": [
    {
     "data": {
      "text/html": [
       "<div>\n",
       "<style scoped>\n",
       "    .dataframe tbody tr th:only-of-type {\n",
       "        vertical-align: middle;\n",
       "    }\n",
       "\n",
       "    .dataframe tbody tr th {\n",
       "        vertical-align: top;\n",
       "    }\n",
       "\n",
       "    .dataframe thead th {\n",
       "        text-align: right;\n",
       "    }\n",
       "</style>\n",
       "<table border=\"1\" class=\"dataframe\">\n",
       "  <thead>\n",
       "    <tr style=\"text-align: right;\">\n",
       "      <th></th>\n",
       "      <th>Type</th>\n",
       "      <th>X Position</th>\n",
       "      <th>Y Position</th>\n",
       "      <th>Rotation</th>\n",
       "      <th>Length</th>\n",
       "      <th>Width</th>\n",
       "      <th>Wood Area</th>\n",
       "      <th>Fabric Area</th>\n",
       "    </tr>\n",
       "  </thead>\n",
       "  <tbody>\n",
       "    <tr>\n",
       "      <th>0</th>\n",
       "      <td>Desk</td>\n",
       "      <td>10</td>\n",
       "      <td>15</td>\n",
       "      <td>0</td>\n",
       "      <td>1.2</td>\n",
       "      <td>0.6</td>\n",
       "      <td>2.0</td>\n",
       "      <td>1.0</td>\n",
       "    </tr>\n",
       "    <tr>\n",
       "      <th>1</th>\n",
       "      <td>Chair</td>\n",
       "      <td>12</td>\n",
       "      <td>15</td>\n",
       "      <td>0</td>\n",
       "      <td>0.5</td>\n",
       "      <td>0.5</td>\n",
       "      <td>0.5</td>\n",
       "      <td>0.8</td>\n",
       "    </tr>\n",
       "    <tr>\n",
       "      <th>2</th>\n",
       "      <td>Table</td>\n",
       "      <td>20</td>\n",
       "      <td>18</td>\n",
       "      <td>90</td>\n",
       "      <td>1.8</td>\n",
       "      <td>1.0</td>\n",
       "      <td>3.0</td>\n",
       "      <td>0.0</td>\n",
       "    </tr>\n",
       "    <tr>\n",
       "      <th>3</th>\n",
       "      <td>Cabinet</td>\n",
       "      <td>25</td>\n",
       "      <td>22</td>\n",
       "      <td>45</td>\n",
       "      <td>2.0</td>\n",
       "      <td>0.8</td>\n",
       "      <td>4.0</td>\n",
       "      <td>0.0</td>\n",
       "    </tr>\n",
       "  </tbody>\n",
       "</table>\n",
       "</div>"
      ],
      "text/plain": [
       "      Type  X Position  Y Position  Rotation  Length  Width  Wood Area  \\\n",
       "0     Desk          10          15         0     1.2    0.6        2.0   \n",
       "1    Chair          12          15         0     0.5    0.5        0.5   \n",
       "2    Table          20          18        90     1.8    1.0        3.0   \n",
       "3  Cabinet          25          22        45     2.0    0.8        4.0   \n",
       "\n",
       "   Fabric Area  \n",
       "0          1.0  \n",
       "1          0.8  \n",
       "2          0.0  \n",
       "3          0.0  "
      ]
     },
     "execution_count": 9,
     "metadata": {},
     "output_type": "execute_result"
    }
   ],
   "source": [
    "df"
   ]
  },
  {
   "cell_type": "markdown",
   "id": "480264a7-7a7a-41f7-bf77-41f08a084c68",
   "metadata": {},
   "source": [
    "## 3- Calculation of Space Utilization\n",
    "Used the collected data to assess how well the office space is being used. Calculated desk density and spacing:"
   ]
  },
  {
   "cell_type": "code",
   "execution_count": 10,
   "id": "5db608d2-de84-42a7-8403-abf285abe31d",
   "metadata": {},
   "outputs": [
    {
     "name": "stdout",
     "output_type": "stream",
     "text": [
      "Desk Density (desks per sqm): 0.0072\n"
     ]
    }
   ],
   "source": [
    "# Calculating density of Desk in the Room.\n",
    "# Assuming the Reception Room is 100 sqm.\n",
    "total_area = 100  \n",
    "desk_area = df[df[\"Type\"] == \"Desk\"][\"Length\"] * df[df[\"Type\"] == \"Desk\"][\"Width\"]\n",
    "desk_density = desk_area.sum() / total_area\n",
    "print(\"Desk Density (desks per sqm):\", desk_density)\n"
   ]
  },
  {
   "cell_type": "code",
   "execution_count": 11,
   "id": "59860402-fd43-4966-8b90-76f4f5d4bbf6",
   "metadata": {},
   "outputs": [
    {
     "name": "stdout",
     "output_type": "stream",
     "text": [
      "Chair Density (Chairs per sqm): 0.0025\n"
     ]
    }
   ],
   "source": [
    "Chair_area = df[df[\"Type\"] == \"Chair\"][\"Length\"] * df[df[\"Type\"] == \"Chair\"][\"Width\"]\n",
    "Chair_density = Chair_area.sum() / total_area\n",
    "print(\"Chair Density (Chairs per sqm):\", Chair_density)"
   ]
  },
  {
   "cell_type": "code",
   "execution_count": 12,
   "id": "686f80db-892a-4b44-922d-82abcde686ed",
   "metadata": {},
   "outputs": [
    {
     "name": "stdout",
     "output_type": "stream",
     "text": [
      "Table Density (Tables per sqm): 0.018000000000000002\n"
     ]
    }
   ],
   "source": [
    "Table_area = df[df[\"Type\"] == \"Table\"][\"Length\"] * df[df[\"Type\"] == \"Table\"][\"Width\"]\n",
    "Table_density = Table_area.sum() / total_area\n",
    "print(\"Table Density (Tables per sqm):\", Table_density)"
   ]
  },
  {
   "cell_type": "code",
   "execution_count": 13,
   "id": "5aa3253f-2bdc-4c54-80df-323c77333718",
   "metadata": {},
   "outputs": [
    {
     "name": "stdout",
     "output_type": "stream",
     "text": [
      "Cabinet Density (Cabinets per sqm): 0.016\n"
     ]
    }
   ],
   "source": [
    "Cabinet_area = df[df[\"Type\"] == \"Cabinet\"][\"Length\"] * df[df[\"Type\"] == \"Cabinet\"][\"Width\"]\n",
    "Cabinet_density = Cabinet_area.sum() / total_area\n",
    "print(\"Cabinet Density (Cabinets per sqm):\", Cabinet_density)"
   ]
  },
  {
   "cell_type": "code",
   "execution_count": 15,
   "id": "149a6af4-53bf-4d3f-8d6f-aaeec328136b",
   "metadata": {},
   "outputs": [],
   "source": [
    "total_furniture_density = desk_density + Chair_density + Table_density + Cabinet_density"
   ]
  },
  {
   "cell_type": "code",
   "execution_count": 16,
   "id": "7b7ce945-e0a5-407e-b8dc-652b8aa237aa",
   "metadata": {},
   "outputs": [
    {
     "data": {
      "text/plain": [
       "0.0437"
      ]
     },
     "execution_count": 16,
     "metadata": {},
     "output_type": "execute_result"
    }
   ],
   "source": [
    "total_furniture_density"
   ]
  },
  {
   "cell_type": "markdown",
   "id": "7a6260d1-68ef-46db-bcd5-699688f075fe",
   "metadata": {},
   "source": [
    "The calculated `total_furniture_density` of 0.0437 (or 4.37%) indicates that only a small fraction of the reception room’s total area is occupied by the furniture listed in your data. Here are some key insights based on this finding:\n",
    "\n",
    "1. **Space Utilization**:\n",
    "   - With a density of only 4.37%, the room is relatively under-utilized, with most of the space open and available. This could suggest an intentionally spacious design, potentially aimed at making the area feel open, uncluttered, and comfortable for customers.\n",
    "   - Alternatively, it could indicate that more furniture could be added if needed.\n",
    "\n",
    "2. **Comfort and Accessibility**:\n",
    "   - A lower furniture density generally implies easier movement and accessibility within the room, making it more comfortable for customers and bank staff. \n",
    "   - This layout might also contribute to a welcoming, less cramped ambiance, potentially enhancing the customer experience.\n",
    "\n",
    "3. **Capacity for Additional Furniture**:\n",
    "   - Since only 4.37% of the area is occupied, there’s substantial room for adding more furniture or rearranging existing furniture if needed.\n",
    "   - If the bank anticipates growth or higher customer traffic, knowing that there is room for more furniture allows flexibility in planning.\n",
    "\n",
    "\n",
    "In summary, the low `total_furniture_density` suggests that the space is intentionally kept open and accessible, with potential flexibility for future additions or adjustments. This density level appears to balance both functional needs and customer comfort, though further data on customer traffic and bank goals could refine these insights."
   ]
  },
  {
   "cell_type": "markdown",
   "id": "1025bf10-d97d-4f18-9491-59b22a66d59f",
   "metadata": {},
   "source": [
    "### Density Ranges and Interpretations\n",
    "\n",
    "1. **Very Low Density (0% - 5%)**\n",
    "2. **Low Density (5% - 15%)**\n",
    "3. **Moderate Density (15% - 30%)**\n",
    "4. **High Density (30% - 50%)**\n",
    "5. **Very High Density (Above 50%)**\n",
    "\n",
    "### Application\n",
    "When assessing a space, consider both the density and the intended purpose of the area. Factors as the room type --> waiting area, meeting space\n",
    "the desired atmosphere will influence what density is appropriate. This framework can help guide design decisions and improve overall space functionality."
   ]
  },
  {
   "cell_type": "markdown",
   "id": "a621da31-b3f8-44bd-9dec-52b068777ff7",
   "metadata": {},
   "source": [
    "## 4- Material Requirement Analysis\n",
    "By knowing the materials used for the previuosly mentioned furniture by making sure from the manufacturer now, I need to estimate the total needed of each material that will be used which is here wood and fabric.\n",
    "Suming the wood and fabric requirements for all furniture:"
   ]
  },
  {
   "cell_type": "code",
   "execution_count": 21,
   "id": "604f7943-c1ed-4bde-8706-687bb10fef26",
   "metadata": {},
   "outputs": [
    {
     "name": "stdout",
     "output_type": "stream",
     "text": [
      "Total Material Requirements: Wood Area      9.5\n",
      "Fabric Area    1.8\n",
      "dtype: float64\n"
     ]
    }
   ],
   "source": [
    "material_summary = df[[\"Wood Area\", \"Fabric Area\"]].sum()\n",
    "print(\"Total Material Requirements:\", material_summary)\n"
   ]
  },
  {
   "cell_type": "markdown",
   "id": "74905470-0b67-4579-ba0e-85e2d0ea0a5a",
   "metadata": {},
   "source": [
    "### Furniture Data\n",
    "\n",
    "| Type    | X Position | Y Position | Rotation | Length (m) | Width (m) | Wood Area (m²) | Fabric Area (m²) |\n",
    "|---------|------------|------------|----------|-------------|-----------|------------------|-------------------|\n",
    "| Desk    | 10         | 15         | 0        | 1.2         | 0.6       | 2.0              | 1.0               |\n",
    "| Chair   | 12         | 15         | 0        | 0.5         | 0.5       | 0.5              | 0.8               |\n",
    "| Table   | 20         | 18         | 90       | 1.8         | 1.0       | 3.0              | 0.0               |\n",
    "| Cabinet | 25         | 22         | 45       | 2.0         | 0.8       | 4.0              | 0.0               |\n",
    "\n",
    "### Total Material Requirements\n",
    "\n",
    "- **Total Wood Area**:\n",
    "  - Desk: 2.0 m²\n",
    "  - Chair: 0.5 m²\n",
    "  - Table: 3.0 m²\n",
    "  - Cabinet: 4.0 m²\n",
    "\n",
    "  **Total Wood Area Needed:**\n",
    "  \\[\n",
    "  2.0 + 0.5 + 3.0 + 4.0 = 9.5 \\text{ m²}\n",
    "  \\]\n",
    "\n",
    "- **Total Fabric Area**:\n",
    "  - Desk: 1.0 m²\n",
    "  - Chair: 0.8 m²\n",
    "  - Table: 0.0 m²\n",
    "  - Cabinet: 0.0 m²\n",
    "\n",
    "  **Total Fabric Area Needed:**\n",
    "  \\[\n",
    "  1.0 + 0.8 + 0.0 + 0.0 = 1.8 \\text{ m²}\n",
    "  \\]\n",
    "\n",
    "### Summary\n",
    "\n",
    "In conclusion, the total material requirements for the reception room furniture are:\n",
    "\n",
    "- **Total Wood Required**: **9.5 m²**\n",
    "- **Total Fabric Required**: **1.8 m²**\n"
   ]
  },
  {
   "cell_type": "markdown",
   "id": "20d70cef-4b83-4b2a-bc06-ad3df5b18319",
   "metadata": {},
   "source": [
    "## 4- Generate Visual Insights\n",
    "Plotting the furniture distribution to show layout density visually."
   ]
  },
  {
   "cell_type": "code",
   "execution_count": 22,
   "id": "43ca1d0f-c9e6-4439-bd1a-c4043da73b80",
   "metadata": {},
   "outputs": [
    {
     "data": {
      "image/png": "[encoded data removed]",
      "text/plain": [
       "<Figure size 640x480 with 1 Axes>"
      ]
     },
     "metadata": {},
     "output_type": "display_data"
    }
   ],
   "source": [
    "import matplotlib.pyplot as plt\n",
    "\n",
    "plt.scatter(df[\"X Position\"], df[\"Y Position\"], c=\"blue\", label=\"Furniture\")\n",
    "plt.xlabel(\"X Position\")\n",
    "plt.ylabel(\"Y Position\")\n",
    "plt.title(\"Furniture Distribution\")\n",
    "plt.legend()\n",
    "plt.show()\n"
   ]
  },
  {
   "cell_type": "markdown",
   "id": "6d2dd526-ba15-4fc5-95b1-8b01e68b9a16",
   "metadata": {},
   "source": [
    "## 6. Insights and Reporting\r\n",
    "\r\n",
    "### Space Optimization\r\n",
    "By observing the space occupied by the furniture and their distribution, it is evident that there is significant space available that can accommodate more furniture if needed. This flexibility allows for adjustments based on visitor traffic and needs.\r\n",
    "\r\n",
    "### Material Planning\r\n",
    "Estimated wood and fabric requirements have been calculated based on the current furniture layout:\r\n",
    "- **Total Wood Required**: **9.5 m²**\r\n",
    "- **Total Fabric Required**: **1.8 m²**\r\n",
    "\r\n",
    "This information is crucial for future procurement and budgeting.\r\n",
    "\r\n",
    "### Efficiency Improvements\r\n",
    "Increasing the number of furniture pieces can enhance the comfort of bank visitors, making the reception area more accommodating. However, care should be taken to avoid overcrowding, which can detract from the overall experience. Maintaining a balance between functionality and comfort is essential.\r\n",
    "\r\n",
    "### Additional Insights\r\n",
    "- **Visitor Experience**: The open space layout contributes to a positive visitor experience, fostering a welcoming atmosphere. Keeping the area clear and comfortable can help reduce wait times and improve service efficiency.\r\n",
    "  \r\n",
    "- **Furniture Arrangements**: Consider exploring various furniture arrangements to maximize the use of space while ensuring accessibility. Flexible furniture options (like modular seating) could further enhance adaptability to changing needs.\r\n",
    "\r\n",
    "- **Future Needs Assessment**: Regular assessments of visitor traffic patterns and feedback can help determine if additional furniture is needed in the future, ensuring the space evolves with the bank's operational needs.\r\n",
    "\r\n",
    "- **Sustainability Considerations**: As new furniture is added, selecting sustainable materials could align with the bank's corporate responsibility goals and enhance its reputation among environmentally conscious clients.\r\n"
   ]
  },
  {
   "cell_type": "code",
   "execution_count": null,
   "id": "582f2e9a-4cfe-450e-8295-b0463f15af46",
   "metadata": {},
   "outputs": [],
   "source": []
  }
 ],
 "metadata": {
  "kernelspec": {
   "display_name": "Python 3 (ipykernel)",
   "language": "python",
   "name": "python3"
  },
  "language_info": {
   "codemirror_mode": {
    "name": "ipython",
    "version": 3
   },
   "file_extension": ".py",
   "mimetype": "text/x-python",
   "name": "python",
   "nbconvert_exporter": "python",
   "pygments_lexer": "ipython3",
   "version": "3.12.4"
  }
 },
 "nbformat": 4,
 "nbformat_minor": 5
}
